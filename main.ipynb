{
 "cells": [
  {
   "attachments": {},
   "cell_type": "markdown",
   "metadata": {},
   "source": [
    "# Anguli Forensics\n",
    "---"
   ]
  },
  {
   "attachments": {},
   "cell_type": "markdown",
   "metadata": {},
   "source": [
    "## Trying to investigate the reason for the high minutiae count in impressions"
   ]
  },
  {
   "attachments": {},
   "cell_type": "markdown",
   "metadata": {},
   "source": [
    "### Extracting Minutiae Points from Image\n",
    "* Initally Added info to the database\n",
    "* Ran Minuiea_extractor_main.py\n",
    "``` Py\n",
    "    {\n",
    "        'Path':str(),\n",
    "        'mv': list()\n",
    "    }\n",
    "```"
   ]
  },
  {
   "cell_type": "code",
   "execution_count": null,
   "metadata": {},
   "outputs": [],
   "source": [
    "#%% Minutiae Extraction Code\n",
    "\n",
    "from minutiae_extractor import extract_minutiae_vector as emv\n",
    "## Usage emv(path_to_image)\n"
   ]
  },
  {
   "cell_type": "code",
   "execution_count": 2,
   "metadata": {},
   "outputs": [
    {
     "ename": "ModuleNotFoundError",
     "evalue": "No module named 'pymongo'",
     "output_type": "error",
     "traceback": [
      "\u001b[1;31m---------------------------------------------------------------------------\u001b[0m",
      "\u001b[1;31mModuleNotFoundError\u001b[0m                       Traceback (most recent call last)",
      "Cell \u001b[1;32mIn[2], line 3\u001b[0m\n\u001b[0;32m      1\u001b[0m \u001b[39m#%% DB Connection\u001b[39;00m\n\u001b[1;32m----> 3\u001b[0m \u001b[39mfrom\u001b[39;00m \u001b[39mBI\u001b[39;00m \u001b[39mimport\u001b[39;00m Datasets\n\u001b[0;32m      5\u001b[0m ds_name\u001b[39m=\u001b[39m\u001b[39m'\u001b[39m\u001b[39mAnguli_test\u001b[39m\u001b[39m'\u001b[39m\n\u001b[0;32m      6\u001b[0m ds \u001b[39m=\u001b[39m Datasets()\n",
      "File \u001b[1;32md:\\Downloads\\DarKSkuLL\\anguli-forensics\\BI.py:64\u001b[0m\n\u001b[0;32m     61\u001b[0m             \u001b[39mfor\u001b[39;00m path \u001b[39min\u001b[39;00m paths:\n\u001b[0;32m     62\u001b[0m                 \u001b[39myield\u001b[39;00m \u001b[39mself\u001b[39m\u001b[39m.\u001b[39mbatcher(atomic_function(path))\n\u001b[1;32m---> 64\u001b[0m \u001b[39mfrom\u001b[39;00m \u001b[39mpymongo\u001b[39;00m \u001b[39mimport\u001b[39;00m MongoClient, collection\n\u001b[0;32m     66\u001b[0m \u001b[39mclass\u001b[39;00m \u001b[39mDataset\u001b[39;00m:\n\u001b[0;32m     67\u001b[0m \u001b[39m    \u001b[39m\u001b[39m\"\"\"\u001b[39;00m\n\u001b[0;32m     68\u001b[0m \u001b[39m    In: Name of Dataset\u001b[39;00m\n\u001b[0;32m     69\u001b[0m \u001b[39m    Out: Obj\u001b[39;00m\n\u001b[1;32m   (...)\u001b[0m\n\u001b[0;32m     73\u001b[0m \u001b[39m        avail_ds - List of all ds avail\u001b[39;00m\n\u001b[0;32m     74\u001b[0m \u001b[39m    \"\"\"\u001b[39;00m\n",
      "\u001b[1;31mModuleNotFoundError\u001b[0m: No module named 'pymongo'"
     ]
    }
   ],
   "source": [
    "#%% DB Connection\n",
    "\n",
    "from BI import Datasets\n",
    "\n",
    "ds_name='Anguli_test'\n",
    "ds = Datasets()\n",
    "\n",
    "db=ds.connect(ds_name)\n",
    "\n"
   ]
  },
  {
   "cell_type": "code",
   "execution_count": null,
   "metadata": {},
   "outputs": [],
   "source": []
  },
  {
   "cell_type": "code",
   "execution_count": null,
   "metadata": {},
   "outputs": [],
   "source": []
  },
  {
   "cell_type": "code",
   "execution_count": null,
   "metadata": {},
   "outputs": [],
   "source": []
  }
 ],
 "metadata": {
  "kernelspec": {
   "display_name": "Python 3",
   "language": "python",
   "name": "python3"
  },
  "language_info": {
   "codemirror_mode": {
    "name": "ipython",
    "version": 3
   },
   "file_extension": ".py",
   "mimetype": "text/x-python",
   "name": "python",
   "nbconvert_exporter": "python",
   "pygments_lexer": "ipython3",
   "version": "3.10.10"
  },
  "orig_nbformat": 4
 },
 "nbformat": 4,
 "nbformat_minor": 2
}
